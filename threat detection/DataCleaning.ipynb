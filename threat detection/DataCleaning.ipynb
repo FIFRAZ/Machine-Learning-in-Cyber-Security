{
 "cells": [
  {
   "cell_type": "code",
   "execution_count": 1,
   "id": "cd2714ad",
   "metadata": {},
   "outputs": [],
   "source": [
    "#pip install ip2geotools\n",
    "import pandas as pd\n",
    "import matplotlib.pyplot as plt\n",
    "import numpy as np"
   ]
  },
  {
   "cell_type": "code",
   "execution_count": 2,
   "id": "e4733d51",
   "metadata": {},
   "outputs": [],
   "source": [
    "inputfilename_train = \"dataset/rba_train.csv\"\n",
    "inputfilename_test = \"dataset/rba_test.csv\"\n",
    "\n",
    "strat_train_set = pd.read_csv(inputfilename_train)\n",
    "strat_test_set = pd.read_csv(inputfilename_test)"
   ]
  },
  {
   "cell_type": "code",
   "execution_count": 3,
   "id": "6853fe9c",
   "metadata": {},
   "outputs": [
    {
     "data": {
      "text/plain": [
       "Index(['Unnamed: 0', 'index', 'Login Timestamp', 'User ID',\n",
       "       'Round-Trip Time [ms]', 'IP Address', 'Country', 'Region', 'City',\n",
       "       'ASN', 'User Agent String', 'Browser Name and Version',\n",
       "       'OS Name and Version', 'Device Type', 'Login Successful',\n",
       "       'Is Attack IP', 'Is Account Takeover', 'year', 'month', 'day', 'hour',\n",
       "       'minute', 'second', 'millisecond', 'Is Failed Login', 'Login counter',\n",
       "       'Is Attack'],\n",
       "      dtype='object')"
      ]
     },
     "execution_count": 3,
     "metadata": {},
     "output_type": "execute_result"
    }
   ],
   "source": [
    "strat_train_set.columns"
   ]
  },
  {
   "cell_type": "markdown",
   "id": "d5b9b46d",
   "metadata": {},
   "source": [
    "##### Modification 1: Drop unnecessary colums\n",
    "'Unnamed: 0', 'index','Login Timestamp' 'Country', 'Region', 'City','Browser Name and Version',\n",
    "       'OS Name and Version', 'Device Type''Is Attack IP', 'Is Account Takeover','second', 'millisecond''Login counter'"
   ]
  },
  {
   "cell_type": "code",
   "execution_count": 4,
   "id": "e40cbbe2",
   "metadata": {},
   "outputs": [],
   "source": [
    "strat_train_set.drop(['Unnamed: 0', 'index','Login Timestamp', 'Country', 'Region', 'City','Browser Name and Version',\\\n",
    "       'OS Name and Version','Is Attack IP', 'Is Account Takeover','second', 'millisecond','Login counter'],  axis='columns', inplace=True)\n",
    "\n",
    "strat_test_set.drop(['Unnamed: 0', 'index','Login Timestamp', 'Country', 'Region', 'City','Browser Name and Version',\\\n",
    "       'OS Name and Version', 'Is Attack IP', 'Is Account Takeover','second', 'millisecond','Login counter'],  axis='columns', inplace=True)\n",
    "  "
   ]
  },
  {
   "cell_type": "code",
   "execution_count": 5,
   "id": "1acc45f9",
   "metadata": {},
   "outputs": [
    {
     "data": {
      "text/plain": [
       "Index(['User ID', 'Round-Trip Time [ms]', 'IP Address', 'ASN',\n",
       "       'User Agent String', 'Device Type', 'Login Successful', 'year', 'month',\n",
       "       'day', 'hour', 'minute', 'Is Failed Login', 'Is Attack'],\n",
       "      dtype='object')"
      ]
     },
     "execution_count": 5,
     "metadata": {},
     "output_type": "execute_result"
    }
   ],
   "source": [
    "strat_test_set.columns"
   ]
  },
  {
   "cell_type": "markdown",
   "id": "50961cbf",
   "metadata": {},
   "source": [
    "##### Modification 2: Drop the rows where RTT is null"
   ]
  },
  {
   "cell_type": "code",
   "execution_count": 6,
   "id": "39bbfe29",
   "metadata": {},
   "outputs": [],
   "source": [
    "strat_train_set.dropna(subset=[\"Round-Trip Time [ms]\"],inplace=True)\n",
    "strat_test_set.dropna(subset=[\"Round-Trip Time [ms]\"],inplace=True)"
   ]
  },
  {
   "cell_type": "code",
   "execution_count": 7,
   "id": "5816a3cd",
   "metadata": {},
   "outputs": [
    {
     "data": {
      "text/plain": [
       "18    908\n",
       "16    891\n",
       "19    887\n",
       "17    867\n",
       "14    801\n",
       "15    790\n",
       "10    763\n",
       "9     757\n",
       "20    756\n",
       "13    735\n",
       "12    731\n",
       "11    689\n",
       "8     670\n",
       "21    546\n",
       "7     487\n",
       "6     354\n",
       "22    337\n",
       "5     204\n",
       "23    161\n",
       "4      98\n",
       "0      94\n",
       "1      49\n",
       "3      46\n",
       "2      45\n",
       "Name: hour, dtype: int64"
      ]
     },
     "execution_count": 7,
     "metadata": {},
     "output_type": "execute_result"
    }
   ],
   "source": [
    "strat_train_set['hour'].value_counts()"
   ]
  },
  {
   "cell_type": "markdown",
   "id": "84ef87bf",
   "metadata": {},
   "source": [
    "##### Modification 3:  Create a new column for storing time of login (3 possible values: Early Morning, Day, Late Night)\n",
    "'Early Morning' if Hour = 3 to 7\n",
    "'Late Night' if hour = 22,23,0,1,2\n",
    "'Day' otherwise 8 to 21"
   ]
  },
  {
   "cell_type": "code",
   "execution_count": 8,
   "id": "bd1c9d53",
   "metadata": {},
   "outputs": [
    {
     "data": {
      "text/html": [
       "<div>\n",
       "<style scoped>\n",
       "    .dataframe tbody tr th:only-of-type {\n",
       "        vertical-align: middle;\n",
       "    }\n",
       "\n",
       "    .dataframe tbody tr th {\n",
       "        vertical-align: top;\n",
       "    }\n",
       "\n",
       "    .dataframe thead th {\n",
       "        text-align: right;\n",
       "    }\n",
       "</style>\n",
       "<table border=\"1\" class=\"dataframe\">\n",
       "  <thead>\n",
       "    <tr style=\"text-align: right;\">\n",
       "      <th></th>\n",
       "      <th>User ID</th>\n",
       "      <th>Round-Trip Time [ms]</th>\n",
       "      <th>IP Address</th>\n",
       "      <th>ASN</th>\n",
       "      <th>User Agent String</th>\n",
       "      <th>Device Type</th>\n",
       "      <th>Login Successful</th>\n",
       "      <th>year</th>\n",
       "      <th>month</th>\n",
       "      <th>day</th>\n",
       "      <th>hour</th>\n",
       "      <th>minute</th>\n",
       "      <th>Is Failed Login</th>\n",
       "      <th>Is Attack</th>\n",
       "      <th>Day Slot</th>\n",
       "    </tr>\n",
       "  </thead>\n",
       "  <tbody>\n",
       "    <tr>\n",
       "      <th>0</th>\n",
       "      <td>-4324475583306591935</td>\n",
       "      <td>506.0</td>\n",
       "      <td>80.232.46.22</td>\n",
       "      <td>25400</td>\n",
       "      <td>Mozilla/5.0  (iPhone; CPU iPhone OS 10_1_1 lik...</td>\n",
       "      <td>mobile</td>\n",
       "      <td>0</td>\n",
       "      <td>2021</td>\n",
       "      <td>2</td>\n",
       "      <td>20</td>\n",
       "      <td>9</td>\n",
       "      <td>58</td>\n",
       "      <td>1</td>\n",
       "      <td>0</td>\n",
       "      <td>day</td>\n",
       "    </tr>\n",
       "    <tr>\n",
       "      <th>40</th>\n",
       "      <td>4141948673144054545</td>\n",
       "      <td>1128.0</td>\n",
       "      <td>84.208.181.38</td>\n",
       "      <td>41164</td>\n",
       "      <td>Mozilla/5.0  (iPhone; CPU iPhone OS 12_0_1 lik...</td>\n",
       "      <td>mobile</td>\n",
       "      <td>1</td>\n",
       "      <td>2020</td>\n",
       "      <td>3</td>\n",
       "      <td>17</td>\n",
       "      <td>20</td>\n",
       "      <td>5</td>\n",
       "      <td>0</td>\n",
       "      <td>0</td>\n",
       "      <td>day</td>\n",
       "    </tr>\n",
       "    <tr>\n",
       "      <th>54</th>\n",
       "      <td>-8152822881938774781</td>\n",
       "      <td>551.0</td>\n",
       "      <td>84.209.190.114</td>\n",
       "      <td>41164</td>\n",
       "      <td>Mozilla/5.0  (iPhone; CPU iPhone OS 13_4 like ...</td>\n",
       "      <td>mobile</td>\n",
       "      <td>1</td>\n",
       "      <td>2020</td>\n",
       "      <td>6</td>\n",
       "      <td>28</td>\n",
       "      <td>11</td>\n",
       "      <td>59</td>\n",
       "      <td>0</td>\n",
       "      <td>0</td>\n",
       "      <td>day</td>\n",
       "    </tr>\n",
       "    <tr>\n",
       "      <th>59</th>\n",
       "      <td>1412256765887180107</td>\n",
       "      <td>506.0</td>\n",
       "      <td>79.161.83.66</td>\n",
       "      <td>29695</td>\n",
       "      <td>Mozilla/5.0  (iPhone; CPU iPhone OS 13_4 like ...</td>\n",
       "      <td>mobile</td>\n",
       "      <td>0</td>\n",
       "      <td>2020</td>\n",
       "      <td>11</td>\n",
       "      <td>3</td>\n",
       "      <td>23</td>\n",
       "      <td>54</td>\n",
       "      <td>1</td>\n",
       "      <td>0</td>\n",
       "      <td>late night</td>\n",
       "    </tr>\n",
       "    <tr>\n",
       "      <th>64</th>\n",
       "      <td>2843739543340219881</td>\n",
       "      <td>43.0</td>\n",
       "      <td>10.0.160.76</td>\n",
       "      <td>500136</td>\n",
       "      <td>Mozilla/5.0  (Linux; Android 6.9; SM-J500H/DS ...</td>\n",
       "      <td>mobile</td>\n",
       "      <td>1</td>\n",
       "      <td>2020</td>\n",
       "      <td>8</td>\n",
       "      <td>4</td>\n",
       "      <td>9</td>\n",
       "      <td>54</td>\n",
       "      <td>0</td>\n",
       "      <td>0</td>\n",
       "      <td>day</td>\n",
       "    </tr>\n",
       "  </tbody>\n",
       "</table>\n",
       "</div>"
      ],
      "text/plain": [
       "                User ID  Round-Trip Time [ms]      IP Address     ASN  \\\n",
       "0  -4324475583306591935                 506.0    80.232.46.22   25400   \n",
       "40  4141948673144054545                1128.0   84.208.181.38   41164   \n",
       "54 -8152822881938774781                 551.0  84.209.190.114   41164   \n",
       "59  1412256765887180107                 506.0    79.161.83.66   29695   \n",
       "64  2843739543340219881                  43.0     10.0.160.76  500136   \n",
       "\n",
       "                                    User Agent String Device Type  \\\n",
       "0   Mozilla/5.0  (iPhone; CPU iPhone OS 10_1_1 lik...      mobile   \n",
       "40  Mozilla/5.0  (iPhone; CPU iPhone OS 12_0_1 lik...      mobile   \n",
       "54  Mozilla/5.0  (iPhone; CPU iPhone OS 13_4 like ...      mobile   \n",
       "59  Mozilla/5.0  (iPhone; CPU iPhone OS 13_4 like ...      mobile   \n",
       "64  Mozilla/5.0  (Linux; Android 6.9; SM-J500H/DS ...      mobile   \n",
       "\n",
       "    Login Successful  year  month  day  hour  minute  Is Failed Login  \\\n",
       "0                  0  2021      2   20     9      58                1   \n",
       "40                 1  2020      3   17    20       5                0   \n",
       "54                 1  2020      6   28    11      59                0   \n",
       "59                 0  2020     11    3    23      54                1   \n",
       "64                 1  2020      8    4     9      54                0   \n",
       "\n",
       "    Is Attack    Day Slot  \n",
       "0           0         day  \n",
       "40          0         day  \n",
       "54          0         day  \n",
       "59          0  late night  \n",
       "64          0         day  "
      ]
     },
     "metadata": {},
     "output_type": "display_data"
    }
   ],
   "source": [
    "def finddayslot(hour):\n",
    "    slotOptions =['early morning', 'day', 'late night']\n",
    "    if hour in [3,4,5,6,7]:\n",
    "        return slotOptions[0]\n",
    "    elif hour in [22,23,0,1,2]:\n",
    "        return slotOptions[2]\n",
    "    else: \n",
    "        return slotOptions[1]\n",
    "    \n",
    "strat_train_set['Day Slot'] = strat_train_set['hour'].map(finddayslot)\n",
    "strat_test_set['Day Slot'] = strat_test_set['hour'].map(finddayslot)\n",
    "display(strat_train_set.head())"
   ]
  },
  {
   "cell_type": "markdown",
   "id": "865a90a3",
   "metadata": {},
   "source": [
    "####Modification 4: Remove rows that have private IP in IP address.\n",
    "Private Address Ranges\n",
    "Class A: 10.0. 0.0 to 10.255. 255.255.\n",
    "Class B: 172.16. 0.0 to 172.31. 255.255.\n",
    "Class C: 192.168. 0.0 to 192.168. 255.255."
   ]
  },
  {
   "cell_type": "code",
   "execution_count": 9,
   "id": "f6f04901",
   "metadata": {},
   "outputs": [
    {
     "data": {
      "text/plain": [
       "'# delete all rows with IP address as private IP\\n\\nindexes_1= strat_train_set[strat_train_set[\\'IP Address\\'].str.startswith(\"10.\")].index\\nindexes_2= strat_train_set[strat_train_set[\\'IP Address\\'].str.startswith(\"172.\")].index\\nindexes_3= strat_train_set[strat_train_set[\\'IP Address\\'].str.startswith(\"192.168.\")].index\\n\\nprint(len(indexes_1))\\nprint(len(indexes_2))\\nprint(len(indexes_3))\\nstrat_train_set.drop(indexes_1 , inplace=True)\\nstrat_train_set.drop(indexes_2 , inplace=True)\\nstrat_train_set.drop(indexes_3 , inplace=True)\\n#strat_train_set.head(15)'"
      ]
     },
     "execution_count": 9,
     "metadata": {},
     "output_type": "execute_result"
    }
   ],
   "source": [
    "'''# delete all rows with IP address as private IP\n",
    "\n",
    "indexes_1= strat_train_set[strat_train_set['IP Address'].str.startswith(\"10.\")].index\n",
    "indexes_2= strat_train_set[strat_train_set['IP Address'].str.startswith(\"172.\")].index\n",
    "indexes_3= strat_train_set[strat_train_set['IP Address'].str.startswith(\"192.168.\")].index\n",
    "\n",
    "print(len(indexes_1))\n",
    "print(len(indexes_2))\n",
    "print(len(indexes_3))\n",
    "strat_train_set.drop(indexes_1 , inplace=True)\n",
    "strat_train_set.drop(indexes_2 , inplace=True)\n",
    "strat_train_set.drop(indexes_3 , inplace=True)\n",
    "#strat_train_set.head(15)'''"
   ]
  },
  {
   "cell_type": "markdown",
   "id": "4e4aacf7",
   "metadata": {},
   "source": [
    "###Modification 4: Create a new columns for storing lattitude, longitude (ASN is already in data), based on IP\n",
    "longitude*1000+latitude"
   ]
  },
  {
   "cell_type": "code",
   "execution_count": 10,
   "id": "20924f81",
   "metadata": {},
   "outputs": [
    {
     "data": {
      "text/plain": [
       "\"import geocoder\\n\\nstrat_train_set['coordinate'] = strat_train_set['IP Address'].apply(lambda x: geocoder.ip(x).lng*1000+geocoder.ip(x).lat)\\nstrat_train_set.head()\""
      ]
     },
     "execution_count": 10,
     "metadata": {},
     "output_type": "execute_result"
    }
   ],
   "source": [
    "'''import geocoder\n",
    "\n",
    "strat_train_set['coordinate'] = strat_train_set['IP Address'].apply(lambda x: geocoder.ip(x).lng*1000+geocoder.ip(x).lat)\n",
    "strat_train_set.head()'''\n"
   ]
  },
  {
   "cell_type": "markdown",
   "id": "53270731",
   "metadata": {},
   "source": [
    "#### Modification 5: Create 3 new columns for storing browser family, OS family, is Bot, based on User Agent"
   ]
  },
  {
   "cell_type": "code",
   "execution_count": 11,
   "id": "37d7a165",
   "metadata": {},
   "outputs": [
    {
     "data": {
      "text/html": [
       "<div>\n",
       "<style scoped>\n",
       "    .dataframe tbody tr th:only-of-type {\n",
       "        vertical-align: middle;\n",
       "    }\n",
       "\n",
       "    .dataframe tbody tr th {\n",
       "        vertical-align: top;\n",
       "    }\n",
       "\n",
       "    .dataframe thead th {\n",
       "        text-align: right;\n",
       "    }\n",
       "</style>\n",
       "<table border=\"1\" class=\"dataframe\">\n",
       "  <thead>\n",
       "    <tr style=\"text-align: right;\">\n",
       "      <th></th>\n",
       "      <th>User ID</th>\n",
       "      <th>Round-Trip Time [ms]</th>\n",
       "      <th>IP Address</th>\n",
       "      <th>ASN</th>\n",
       "      <th>User Agent String</th>\n",
       "      <th>Device Type</th>\n",
       "      <th>Login Successful</th>\n",
       "      <th>year</th>\n",
       "      <th>month</th>\n",
       "      <th>day</th>\n",
       "      <th>hour</th>\n",
       "      <th>minute</th>\n",
       "      <th>Is Failed Login</th>\n",
       "      <th>Is Attack</th>\n",
       "      <th>Day Slot</th>\n",
       "      <th>Browser Family</th>\n",
       "      <th>OS Family</th>\n",
       "      <th>Is Bot</th>\n",
       "    </tr>\n",
       "  </thead>\n",
       "  <tbody>\n",
       "    <tr>\n",
       "      <th>0</th>\n",
       "      <td>-4324475583306591935</td>\n",
       "      <td>506.0</td>\n",
       "      <td>80.232.46.22</td>\n",
       "      <td>25400</td>\n",
       "      <td>Mozilla/5.0  (iPhone; CPU iPhone OS 10_1_1 lik...</td>\n",
       "      <td>mobile</td>\n",
       "      <td>0</td>\n",
       "      <td>2021</td>\n",
       "      <td>2</td>\n",
       "      <td>20</td>\n",
       "      <td>9</td>\n",
       "      <td>58</td>\n",
       "      <td>1</td>\n",
       "      <td>0</td>\n",
       "      <td>day</td>\n",
       "      <td>Mobile Safari</td>\n",
       "      <td>iOS</td>\n",
       "      <td>False</td>\n",
       "    </tr>\n",
       "    <tr>\n",
       "      <th>40</th>\n",
       "      <td>4141948673144054545</td>\n",
       "      <td>1128.0</td>\n",
       "      <td>84.208.181.38</td>\n",
       "      <td>41164</td>\n",
       "      <td>Mozilla/5.0  (iPhone; CPU iPhone OS 12_0_1 lik...</td>\n",
       "      <td>mobile</td>\n",
       "      <td>1</td>\n",
       "      <td>2020</td>\n",
       "      <td>3</td>\n",
       "      <td>17</td>\n",
       "      <td>20</td>\n",
       "      <td>5</td>\n",
       "      <td>0</td>\n",
       "      <td>0</td>\n",
       "      <td>day</td>\n",
       "      <td>Mobile Safari</td>\n",
       "      <td>iOS</td>\n",
       "      <td>False</td>\n",
       "    </tr>\n",
       "    <tr>\n",
       "      <th>54</th>\n",
       "      <td>-8152822881938774781</td>\n",
       "      <td>551.0</td>\n",
       "      <td>84.209.190.114</td>\n",
       "      <td>41164</td>\n",
       "      <td>Mozilla/5.0  (iPhone; CPU iPhone OS 13_4 like ...</td>\n",
       "      <td>mobile</td>\n",
       "      <td>1</td>\n",
       "      <td>2020</td>\n",
       "      <td>6</td>\n",
       "      <td>28</td>\n",
       "      <td>11</td>\n",
       "      <td>59</td>\n",
       "      <td>0</td>\n",
       "      <td>0</td>\n",
       "      <td>day</td>\n",
       "      <td>Mobile Safari UI/WKWebView</td>\n",
       "      <td>iOS</td>\n",
       "      <td>False</td>\n",
       "    </tr>\n",
       "    <tr>\n",
       "      <th>59</th>\n",
       "      <td>1412256765887180107</td>\n",
       "      <td>506.0</td>\n",
       "      <td>79.161.83.66</td>\n",
       "      <td>29695</td>\n",
       "      <td>Mozilla/5.0  (iPhone; CPU iPhone OS 13_4 like ...</td>\n",
       "      <td>mobile</td>\n",
       "      <td>0</td>\n",
       "      <td>2020</td>\n",
       "      <td>11</td>\n",
       "      <td>3</td>\n",
       "      <td>23</td>\n",
       "      <td>54</td>\n",
       "      <td>1</td>\n",
       "      <td>0</td>\n",
       "      <td>late night</td>\n",
       "      <td>Chrome</td>\n",
       "      <td>iOS</td>\n",
       "      <td>False</td>\n",
       "    </tr>\n",
       "    <tr>\n",
       "      <th>64</th>\n",
       "      <td>2843739543340219881</td>\n",
       "      <td>43.0</td>\n",
       "      <td>10.0.160.76</td>\n",
       "      <td>500136</td>\n",
       "      <td>Mozilla/5.0  (Linux; Android 6.9; SM-J500H/DS ...</td>\n",
       "      <td>mobile</td>\n",
       "      <td>1</td>\n",
       "      <td>2020</td>\n",
       "      <td>8</td>\n",
       "      <td>4</td>\n",
       "      <td>9</td>\n",
       "      <td>54</td>\n",
       "      <td>0</td>\n",
       "      <td>0</td>\n",
       "      <td>day</td>\n",
       "      <td>Android</td>\n",
       "      <td>Android</td>\n",
       "      <td>False</td>\n",
       "    </tr>\n",
       "  </tbody>\n",
       "</table>\n",
       "</div>"
      ],
      "text/plain": [
       "                User ID  Round-Trip Time [ms]      IP Address     ASN  \\\n",
       "0  -4324475583306591935                 506.0    80.232.46.22   25400   \n",
       "40  4141948673144054545                1128.0   84.208.181.38   41164   \n",
       "54 -8152822881938774781                 551.0  84.209.190.114   41164   \n",
       "59  1412256765887180107                 506.0    79.161.83.66   29695   \n",
       "64  2843739543340219881                  43.0     10.0.160.76  500136   \n",
       "\n",
       "                                    User Agent String Device Type  \\\n",
       "0   Mozilla/5.0  (iPhone; CPU iPhone OS 10_1_1 lik...      mobile   \n",
       "40  Mozilla/5.0  (iPhone; CPU iPhone OS 12_0_1 lik...      mobile   \n",
       "54  Mozilla/5.0  (iPhone; CPU iPhone OS 13_4 like ...      mobile   \n",
       "59  Mozilla/5.0  (iPhone; CPU iPhone OS 13_4 like ...      mobile   \n",
       "64  Mozilla/5.0  (Linux; Android 6.9; SM-J500H/DS ...      mobile   \n",
       "\n",
       "    Login Successful  year  month  day  hour  minute  Is Failed Login  \\\n",
       "0                  0  2021      2   20     9      58                1   \n",
       "40                 1  2020      3   17    20       5                0   \n",
       "54                 1  2020      6   28    11      59                0   \n",
       "59                 0  2020     11    3    23      54                1   \n",
       "64                 1  2020      8    4     9      54                0   \n",
       "\n",
       "    Is Attack    Day Slot              Browser Family OS Family  Is Bot  \n",
       "0           0         day               Mobile Safari       iOS   False  \n",
       "40          0         day               Mobile Safari       iOS   False  \n",
       "54          0         day  Mobile Safari UI/WKWebView       iOS   False  \n",
       "59          0  late night                      Chrome       iOS   False  \n",
       "64          0         day                     Android   Android   False  "
      ]
     },
     "execution_count": 11,
     "metadata": {},
     "output_type": "execute_result"
    }
   ],
   "source": [
    "from user_agents import parse\n",
    "def findBrowserFamily(ua_string):\n",
    "    user_agent = parse(ua_string)\n",
    "    return user_agent.browser.family\n",
    "def findOSFamily(ua_string):\n",
    "    user_agent = parse(ua_string)\n",
    "    return user_agent.os.family\n",
    "def isBot(ua_string):\n",
    "    user_agent = parse(ua_string)\n",
    "    return user_agent.is_bot\n",
    "\n",
    "    \n",
    "strat_train_set['Browser Family'] = strat_train_set['User Agent String'].map(findBrowserFamily)\n",
    "strat_train_set['OS Family'] = strat_train_set['User Agent String'].map(findOSFamily)\n",
    "strat_train_set['Is Bot'] = strat_train_set['User Agent String'].map(isBot)\n",
    "\n",
    "strat_test_set['Browser Family'] = strat_test_set['User Agent String'].map(findBrowserFamily)\n",
    "strat_test_set['OS Family'] = strat_test_set['User Agent String'].map(findOSFamily)\n",
    "strat_test_set['Is Bot'] = strat_test_set['User Agent String'].map(isBot)\n",
    "\n",
    "\n",
    "strat_train_set.head()"
   ]
  },
  {
   "cell_type": "code",
   "execution_count": 12,
   "id": "c16b3aba",
   "metadata": {},
   "outputs": [],
   "source": [
    "strat_train_set.to_csv(\"dataset/rba_train_clean.csv\",index=False)\n",
    "strat_test_set.to_csv(\"dataset/rba_test_clean.csv\",index=False)"
   ]
  }
 ],
 "metadata": {
  "kernelspec": {
   "display_name": "Python 3 (ipykernel)",
   "language": "python",
   "name": "python3"
  },
  "language_info": {
   "codemirror_mode": {
    "name": "ipython",
    "version": 3
   },
   "file_extension": ".py",
   "mimetype": "text/x-python",
   "name": "python",
   "nbconvert_exporter": "python",
   "pygments_lexer": "ipython3",
   "version": "3.9.15"
  }
 },
 "nbformat": 4,
 "nbformat_minor": 5
}
