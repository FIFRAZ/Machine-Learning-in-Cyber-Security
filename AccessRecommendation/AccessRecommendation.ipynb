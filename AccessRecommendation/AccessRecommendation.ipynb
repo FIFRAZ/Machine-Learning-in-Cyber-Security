{
 "cells": [
  {
   "cell_type": "code",
   "execution_count": 1,
   "id": "cbf2158e",
   "metadata": {},
   "outputs": [],
   "source": [
    "from sklearn.ensemble import RandomForestClassifier\n",
    "from sklearn.datasets import load_digits\n",
    "from sklearn.model_selection import train_test_split\n",
    "from sklearn.metrics import accuracy_score, precision_score, recall_score, f1_score\n",
    "from sklearn.preprocessing import LabelBinarizer\n",
    "import numpy as np\n",
    "import pandas as pd\n",
    "from sklearn import preprocessing\n"
   ]
  },
  {
   "cell_type": "code",
   "execution_count": 2,
   "id": "d4a38d52",
   "metadata": {},
   "outputs": [
    {
     "data": {
      "text/plain": [
       "\"\\n\\n# Define sample user profiles and attributes\\n#roles =['Role1','Role2','Role3','Role4','Role5']\\nusers = ['Sam', 'Rahul', 'Larry', 'Henry', 'Leena', 'Mary','Lynda','Tom','Don','Bob']\\nage = np.random.randint(18, 65, size=len(users))\\nmlevel = np.random.choice(['M1', 'M2','M3','M4','M5'], size=len(users))\\nexperience = np.random.randint(1, 10, size=len(users))\\ndepartment = np.random.choice(['HR', 'Sales', 'IT'], size=len(users))\\nlocation = np.random.choice(['LA', 'Austin', 'Cincinnati','Delhi'], size=len(users))\\nlabels = np.random.choice([0,1], size=len(users))\\n\\nlabels =[None]*len(users)\\nfor i in range(len(users)):\\n    label = np.random.choice([0, 1], size=len(roles))\\n    labels[i] = label\\n\\n# Create a DataFrame to store the user data\\n#data = pd.DataFrame({'User': users, 'Age': age, 'Managerlevel': mlevel, 'Experience': experience, 'Department': department,\\n#                    'location': location, 'roles': labels})\\n\\n\""
      ]
     },
     "execution_count": 2,
     "metadata": {},
     "output_type": "execute_result"
    }
   ],
   "source": [
    "'''\n",
    "\n",
    "# Define sample user profiles and attributes\n",
    "#roles =['Role1','Role2','Role3','Role4','Role5']\n",
    "users = ['Sam', 'Rahul', 'Larry', 'Henry', 'Leena', 'Mary','Lynda','Tom','Don','Bob']\n",
    "age = np.random.randint(18, 65, size=len(users))\n",
    "mlevel = np.random.choice(['M1', 'M2','M3','M4','M5'], size=len(users))\n",
    "experience = np.random.randint(1, 10, size=len(users))\n",
    "department = np.random.choice(['HR', 'Sales', 'IT'], size=len(users))\n",
    "location = np.random.choice(['LA', 'Austin', 'Cincinnati','Delhi'], size=len(users))\n",
    "labels = np.random.choice([0,1], size=len(users))\n",
    "\n",
    "labels =[None]*len(users)\n",
    "for i in range(len(users)):\n",
    "    label = np.random.choice([0, 1], size=len(roles))\n",
    "    labels[i] = label\n",
    "\n",
    "# Create a DataFrame to store the user data\n",
    "#data = pd.DataFrame({'User': users, 'Age': age, 'Managerlevel': mlevel, 'Experience': experience, 'Department': department,\n",
    "#                    'location': location, 'roles': labels})\n",
    "\n",
    "'''"
   ]
  },
  {
   "cell_type": "code",
   "execution_count": 3,
   "id": "c2437efb",
   "metadata": {},
   "outputs": [
    {
     "name": "stdout",
     "output_type": "stream",
     "text": [
      "         Project             JobTitle Department    location  \\\n",
      "User                                                           \n",
      "Sam    Jefferies       RiskManagement      Sales  Cincinnati   \n",
      "Rahul  Jefferies       RiskManagement         IT          LA   \n",
      "Larry        PFG      ClaimsAssociate         HR      Austin   \n",
      "Henry        PFG       ClaimsAdjuster         HR          LA   \n",
      "Leena  Jefferies  PrivateInvestigator         HR  Cincinnati   \n",
      "\n",
      "       ITSPlanningCommittee  \n",
      "User                         \n",
      "Sam                       1  \n",
      "Rahul                     1  \n",
      "Larry                     0  \n",
      "Henry                     0  \n",
      "Leena                     1  \n"
     ]
    }
   ],
   "source": [
    "\n",
    "data = pd.read_csv(\"dataset/user-roles.csv\")\n",
    "\n",
    "data = data.set_index('User')\n",
    "# Display the generated sample data\n",
    "print(data.head())\n"
   ]
  },
  {
   "cell_type": "code",
   "execution_count": 4,
   "id": "5a46c9cd",
   "metadata": {},
   "outputs": [
    {
     "name": "stdout",
     "output_type": "stream",
     "text": [
      "['Assurant' 'Jefferies' 'PFG']\n",
      "['HR' 'IT' 'Sales']\n",
      "['Austin' 'Cincinnati' 'LA']\n",
      "['ClaimsAdjuster' 'ClaimsAssociate' 'ClaimsExaminer' 'InsuranceAgent'\n",
      " 'LossControl' 'PrivateInvestigator' 'RiskManagement']\n",
      "       Project  JobTitle  Department  location\n",
      "User                                          \n",
      "Sam          1         6           2         1\n",
      "Rahul        1         6           1         2\n",
      "Larry        2         1           0         0\n",
      "Henry        2         0           0         2\n",
      "Leena        1         5           0         1\n",
      "<class 'pandas.core.frame.DataFrame'>\n",
      "Index: 10 entries, Sam to Bob\n",
      "Data columns (total 4 columns):\n",
      " #   Column      Non-Null Count  Dtype\n",
      "---  ------      --------------  -----\n",
      " 0   Project     10 non-null     int32\n",
      " 1   JobTitle    10 non-null     int32\n",
      " 2   Department  10 non-null     int32\n",
      " 3   location    10 non-null     int32\n",
      "dtypes: int32(4)\n",
      "memory usage: 240.0+ bytes\n",
      "None\n"
     ]
    }
   ],
   "source": [
    "X = data.drop('ITSPlanningCommittee', axis=1)\n",
    "y = data[\"ITSPlanningCommittee\"].copy()\n",
    "\n",
    "le = preprocessing.LabelEncoder()\n",
    "X['Project'] = le.fit_transform(X['Project'])\n",
    "print(le.classes_)\n",
    "X['Department'] = le.fit_transform(X['Department'])\n",
    "print(le.classes_)\n",
    "X['location'] = le.fit_transform(X['location'])\n",
    "print(le.classes_)\n",
    "X['JobTitle'] = le.fit_transform(X['JobTitle'])\n",
    "print(le.classes_)\n",
    "\n",
    "\n",
    "print(X.head())\n",
    "\n",
    "print(X.info())"
   ]
  },
  {
   "cell_type": "code",
   "execution_count": 5,
   "id": "c32108d3",
   "metadata": {},
   "outputs": [],
   "source": [
    "# Split the data into training and testing sets\n",
    "X_train, X_test, y_train, y_test = train_test_split(X, y, test_size=0.2, random_state=42)\n",
    "\n"
   ]
  },
  {
   "cell_type": "code",
   "execution_count": 6,
   "id": "f706be47",
   "metadata": {},
   "outputs": [
    {
     "name": "stdout",
     "output_type": "stream",
     "text": [
      "[[1 0]\n",
      " [0 1]]\n",
      "0.0\n",
      "\n",
      "['Assurant':0 'Jefferies':1 'PFG':2]\n",
      "['HR' 'IT' 'Sales']\n",
      "['Austin' 'Cincinnati' 'Delhi' 'LA']\n",
      "['ClaimsAdjuster' 'ClaimsAssociate' 'ClaimsExaminer' 'InsuranceAgent'\n",
      " 'LossControl' 'PrivateInvestigator' 'RiskManagement']\n",
      "\n",
      "X_test ---> \n",
      "        Project  JobTitle  Department  location\n",
      "User                                          \n",
      "Don          1         2           1         1\n",
      "Rahul        1         6           1         2\n",
      "y_test --->  User\n",
      "Don      0\n",
      "Rahul    1\n",
      "Name: ITSPlanningCommittee, dtype: int64\n",
      "pred_y --->  [0 1]\n"
     ]
    },
    {
     "data": {
      "image/png": "[encoded data removed]",
      "text/plain": [
       "<Figure size 640x480 with 2 Axes>"
      ]
     },
     "metadata": {},
     "output_type": "display_data"
    }
   ],
   "source": [
    "from sklearn.tree import DecisionTreeClassifier\n",
    "from sklearn.metrics import confusion_matrix, zero_one_loss\n",
    "classifier = DecisionTreeClassifier(random_state=17)\n",
    "classifier.fit(X_train, y_train)\n",
    "\n",
    "pred_y = classifier.predict(X_test)\n",
    "results = confusion_matrix(y_test, pred_y)\n",
    "error = zero_one_loss(y_test, pred_y)\n",
    "\n",
    "print(results)\n",
    "print(error)\n",
    "# Display confusion matrix\n",
    "from sklearn.metrics import ConfusionMatrixDisplay\n",
    "cm_display = ConfusionMatrixDisplay(results).plot()\n",
    "\n",
    "print('''\n",
    "['Assurant':0 'Jefferies':1 'PFG':2]\n",
    "['HR' 'IT' 'Sales']\n",
    "['Austin' 'Cincinnati' 'Delhi' 'LA']\n",
    "['ClaimsAdjuster' 'ClaimsAssociate' 'ClaimsExaminer' 'InsuranceAgent'\n",
    " 'LossControl' 'PrivateInvestigator' 'RiskManagement']\n",
    "''')\n",
    "\n",
    "print(\"X_test ---> \\n\",X_test)\n",
    "print(\"y_test ---> \",y_test)\n",
    "print(\"pred_y ---> \",pred_y)"
   ]
  },
  {
   "cell_type": "markdown",
   "id": "9fc14b85",
   "metadata": {},
   "source": [
    "#####  Each label as a vector of binary, where each binary element indicates whether a specific Role is assigned to this user or not. If there were 10 Roles, then the vector for this user would consist of 10 binary elements."
   ]
  },
  {
   "cell_type": "code",
   "execution_count": 7,
   "id": "f6533b29",
   "metadata": {},
   "outputs": [
    {
     "name": "stdout",
     "output_type": "stream",
     "text": [
      "y_test_1 -----  [[1 0 0 1 0 0 1 1 0]\n",
      " [1 0 0 1 0 1 0 1 0]]\n",
      "y_pred_1 -----  [[0 0 0 1 0 0 1 1 0]\n",
      " [1 0 0 1 0 1 0 1 0]]\n",
      "Accuracy: 0.5\n",
      "Precision: 1.0\n",
      "Recall: 0.875\n",
      "F1-Score: 0.9285714285714286\n"
     ]
    }
   ],
   "source": [
    "#Using the same data, but label as vector\n",
    "\n",
    "y_Vector = np.array([[1,0,0,1,0,1,0,1,0], [1,0,0,1,0,1,0,1,0],[0,1,0,0,1,0,1,0,1],\n",
    "                          [0,1,0,0,1,0,1,1,0],[1,0,0,0,1,1,0,1,0],[0,0,1,1,0,0,1,1,0],\n",
    "                          [0,1,0,1,0,1,0,1,0],[0,0,1,1,0,1,0,0,1],[1,0,0,1,0,0,1,1,0],\n",
    "                          [0,0,1,1,0,0,1,0,1]])  \n",
    "\n",
    "# Split the data into training and testing sets\n",
    "X_train_1, X_test_1, y_train_1, y_test_1 = train_test_split(X, y_Vector, test_size=0.2, random_state=42)\n",
    "\n",
    "# Create a Random Forest Classifier\n",
    "rf_classifier_multi = RandomForestClassifier()\n",
    "\n",
    "# Train the classifier\n",
    "rf_classifier_multi.fit(X_train_1, y_train_1)\n",
    "\n",
    "# Make predictions on the test set\n",
    "y_pred_1 = rf_classifier_multi.predict(X_test_1)\n",
    "\n",
    "# Evaluate the performance\n",
    "accuracy = accuracy_score(y_test_1, y_pred_1)\n",
    "precision = precision_score(y_test_1, y_pred_1, average='samples')\n",
    "recall = recall_score(y_test_1, y_pred_1, average='samples')\n",
    "f1 = f1_score(y_test_1, y_pred_1, average='samples')\n",
    "\n",
    "print(\"y_test_1 ----- \",y_test_1)\n",
    "print(\"y_pred_1 ----- \",y_pred_1)\n",
    "\n",
    "print(\"Accuracy:\", accuracy)\n",
    "print(\"Precision:\", precision)\n",
    "print(\"Recall:\", recall)\n",
    "print(\"F1-Score:\", f1)\n"
   ]
  },
  {
   "cell_type": "markdown",
   "id": "3a2348f7",
   "metadata": {},
   "source": [
    "<h3> Unsupervised learning</h3>\n",
    "\n",
    "##### keeping features configurable so that admin can choose the features to be used for finding peer group \n",
    "\n",
    "Using unsupervised learning, we can find the cluster of similar users based on their contextual attributes. \n",
    "Then either we could just recommend whatever the current user does not have compared to the peer group, and we could\n",
    "further refine, \n",
    "###### Peer group analysis must take care of third party access (peer at vendor level, and user level)\n",
    "\n",
    "<h3> Supervised learning</h3>\n",
    "by running supervised learning for this peer group, to recommend only the most relevant\n",
    "roles/entitlements/accounts\n",
    "\n",
    "This will take care of minor differences in the peer group. Not everyone in the peer group needs to have the same level of \n",
    "access. They still belong to the same cluster because of the similarilty score threshold we would have chosen. Users in the\n",
    "peer group might be working on different projects(which are dynamic) requiring different access.\n",
    "\n",
    "<h3> Rule Based Logic</h3>\n",
    "\n",
    "- Does the user already have this account/Role/Entitlement\n",
    "- If entitlement is going to be recommended, does the user have an account in the application?\n",
    "- Does this entitlement cause any SoD policy violation? Highlight the need for providing necessary justification, approval process\n",
    "- Is this a privileged access? Highlight the need for providing necessary justification, approval process, link to PAM process in place (Just in time access)\n",
    "- Logic(<b>Rule based/ML </b>) based on <b> user profile</b> (UI Feedback on how relevant each recommendation was?, <b>search keyword</b>\n",
    "'''"
   ]
  },
  {
   "cell_type": "code",
   "execution_count": null,
   "id": "05e0b7a6",
   "metadata": {},
   "outputs": [],
   "source": []
  }
 ],
 "metadata": {
  "kernelspec": {
   "display_name": "Python 3 (ipykernel)",
   "language": "python",
   "name": "python3"
  },
  "language_info": {
   "codemirror_mode": {
    "name": "ipython",
    "version": 3
   },
   "file_extension": ".py",
   "mimetype": "text/x-python",
   "name": "python",
   "nbconvert_exporter": "python",
   "pygments_lexer": "ipython3",
   "version": "3.9.15"
  }
 },
 "nbformat": 4,
 "nbformat_minor": 5
}
