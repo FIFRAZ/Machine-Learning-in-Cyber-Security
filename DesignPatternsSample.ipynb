{
 "cells": [
  {
   "cell_type": "code",
   "execution_count": 1,
   "id": "25f30863",
   "metadata": {},
   "outputs": [],
   "source": [
    "from sklearn.linear_model import LogisticRegression\n",
    "from sklearn.ensemble import RandomForestClassifier\n",
    "from sklearn.svm import SVC"
   ]
  },
  {
   "cell_type": "code",
   "execution_count": 2,
   "id": "37b0e4cc",
   "metadata": {},
   "outputs": [],
   "source": [
    "#The fatory pattern used for model selection. It will return the builder object for the input model type\n",
    "# The builder class can be used for logic specific to configuring the model, like setting the parameters\n",
    "\n",
    "class ModelFactory:\n",
    "    \n",
    "    def create_model(self,model_type):\n",
    "        print(\"input parameter model type = \", model_type)\n",
    "        if model_type == \"LogisticRegression\":\n",
    "            return LogisticRegressionModelBuilder()\n",
    "        elif model_type == \"RandomForest\":\n",
    "            return RandomForestClassifierModelBuilder()\n",
    "        elif model_type == \"SVM\":\n",
    "            return SVCModelBuilder()\n",
    "        else:\n",
    "            raise ValueError(\"Invalid model_type :\", model_type)\n"
   ]
  },
  {
   "cell_type": "code",
   "execution_count": 3,
   "id": "190efdbd",
   "metadata": {},
   "outputs": [],
   "source": [
    "# Builder Pattern, to set the model parameters (and for any additional logic for the model type)\n",
    "# This class is inherited to create the model builder for each model type\n",
    "class ModelBuilder:\n",
    "    def set_parameters(self, **kwargs):\n",
    "        raise NotImplementedError(\"set_parameters() must be implemented in the derived class.\")\n",
    "\n",
    "    def build(self):\n",
    "        raise NotImplementedError(\"build() must be implemented in the derived class.\")"
   ]
  },
  {
   "cell_type": "code",
   "execution_count": 4,
   "id": "65c6c337",
   "metadata": {},
   "outputs": [],
   "source": [
    "class LogisticRegressionModelBuilder(ModelBuilder):\n",
    "    def __init__(self):\n",
    "        self.model = LogisticRegression()\n",
    "\n",
    "    def set_parameters(self, penalty='l2', solver='lbfgs', max_iter=100):\n",
    "        self.model.set_params(penalty=penalty, solver=solver, max_iter=max_iter)\n",
    "        return self\n",
    "\n",
    "    def build(self):\n",
    "        return self.model"
   ]
  },
  {
   "cell_type": "code",
   "execution_count": 5,
   "id": "833e2ac5",
   "metadata": {},
   "outputs": [],
   "source": [
    "# Singleton Pattern, return the instance if it exits already, else create a new instance\n",
    "class ModelManager:\n",
    "    _instance = None\n",
    "\n",
    "    def get_instance():\n",
    "        if ModelManager._instance is None:\n",
    "            ModelManager._instance = ModelManager()\n",
    "        return ModelManager._instance\n",
    "\n",
    "    def __init__(self):\n",
    "        self.model_version = 1\n",
    "        self.current_model = None\n",
    "\n",
    "    def set_model_version(self, version):\n",
    "        self.model_version = version\n",
    "\n",
    "    def get_model(self, model_type, **kwargs):\n",
    "        # Get the model builder(does not include setting the desired parameters yet), using the model_type parameter\n",
    "        model_builder = ModelFactory().create_model(model_type)\n",
    "        print(\" model builder of model type \",model_type, \"and the returned object is \",type(model_builder))\n",
    "        \n",
    "        self.current_model = model_builder.set_parameters(**kwargs).build()\n",
    "        print(\"The model is built, parameters configured \", type(self.current_model))\n",
    "        print(\" Parameters of the current model => \", self.current_model.get_params())\n",
    "        return self.current_model"
   ]
  },
  {
   "cell_type": "code",
   "execution_count": 6,
   "id": "9a269663",
   "metadata": {},
   "outputs": [
    {
     "name": "stdout",
     "output_type": "stream",
     "text": [
      "input parameter model type =  LogisticRegression\n",
      " model builder of model type  LogisticRegression and the returned object is  <class '__main__.LogisticRegressionModelBuilder'>\n",
      "The model is built, parameters configured  <class 'sklearn.linear_model._logistic.LogisticRegression'>\n",
      " Parameters of the current model =>  {'C': 1.0, 'class_weight': None, 'dual': False, 'fit_intercept': True, 'intercept_scaling': 1, 'l1_ratio': None, 'max_iter': 200, 'multi_class': 'auto', 'n_jobs': None, 'penalty': 'l1', 'random_state': None, 'solver': 'liblinear', 'tol': 0.0001, 'verbose': 0, 'warm_start': False}\n"
     ]
    }
   ],
   "source": [
    "# Step 1: Create an instance of ModelManager\n",
    "model_manager = ModelManager.get_instance()\n",
    "\n",
    "# Step 2: Set the desired model version (optional)\n",
    "model_manager.set_model_version(2)\n",
    "\n",
    "# Step 3: Get the model with the specified model type and parameters\n",
    "model_type = \"LogisticRegression\"\n",
    "model_parameters = {\"penalty\": \"l1\", \"solver\": \"liblinear\", \"max_iter\": 200}\n",
    "model = model_manager.get_model(model_type, **model_parameters)\n",
    "\n",
    "# Now, we have the desired model instance, and we can use it for prediction or other tasks."
   ]
  },
  {
   "cell_type": "code",
   "execution_count": null,
   "id": "5197ce14",
   "metadata": {},
   "outputs": [],
   "source": []
  }
 ],
 "metadata": {
  "kernelspec": {
   "display_name": "Python 3 (ipykernel)",
   "language": "python",
   "name": "python3"
  },
  "language_info": {
   "codemirror_mode": {
    "name": "ipython",
    "version": 3
   },
   "file_extension": ".py",
   "mimetype": "text/x-python",
   "name": "python",
   "nbconvert_exporter": "python",
   "pygments_lexer": "ipython3",
   "version": "3.9.15"
  }
 },
 "nbformat": 4,
 "nbformat_minor": 5
}
